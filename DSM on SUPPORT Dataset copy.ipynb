{
 "cells": [
  {
   "cell_type": "markdown",
   "metadata": {},
   "source": [
    "# DSM on SUPPORT Dataset"
   ]
  },
  {
   "cell_type": "markdown",
   "metadata": {},
   "source": [
    "The SUPPORT dataset comes from the Vanderbilt University study\n",
    "to estimate survival for seriously ill hospitalized adults.\n",
    "(Refer to http://biostat.mc.vanderbilt.edu/wiki/Main/SupportDesc.\n",
    "for the original datasource.)\n",
    "\n",
    "In this notebook, we will apply Deep Survival Machines for survival prediction on the SUPPORT data."
   ]
  },
  {
   "cell_type": "markdown",
   "metadata": {},
   "source": [
    "### Load the SUPPORT Dataset\n",
    "\n",
    "The package includes helper functions to load the dataset.\n",
    "\n",
    "X represents an np.array of features (covariates),\n",
    "T is the event/censoring times and,\n",
    "E is the censoring indicator."
   ]
  },
  {
   "cell_type": "code",
   "execution_count": 1,
   "metadata": {},
   "outputs": [],
   "source": [
    "import os\n",
    "os.chdir('/home/joe/testbed/DeepSurvivalMachines')"
   ]
  },
  {
   "cell_type": "code",
   "execution_count": 2,
   "metadata": {},
   "outputs": [],
   "source": [
    "from dsm import datasets\n",
    "x, t, e = datasets.load_dataset('SUPPORT')"
   ]
  },
  {
   "cell_type": "code",
   "execution_count": 6,
   "metadata": {},
   "outputs": [
    {
     "output_type": "execute_result",
     "data": {
      "text/plain": [
       "(9105, 44)"
      ]
     },
     "metadata": {},
     "execution_count": 6
    }
   ],
   "source": [
    "x.shape"
   ]
  },
  {
   "cell_type": "code",
   "execution_count": 5,
   "metadata": {},
   "outputs": [
    {
     "output_type": "execute_result",
     "data": {
      "text/plain": [
       "(9105,)"
      ]
     },
     "metadata": {},
     "execution_count": 5
    }
   ],
   "source": [
    "e.shape"
   ]
  },
  {
   "cell_type": "markdown",
   "metadata": {},
   "source": [
    "### Compute horizons at which we evaluate the performance of DSM\n",
    "\n",
    "Survival predictions are issued at certain time horizons. Here we will evaluate the performance\n",
    "of DSM to issue predictions at the 25th, 50th and 75th event time quantile as is standard practice in Survival Analysis."
   ]
  },
  {
   "cell_type": "code",
   "execution_count": 6,
   "metadata": {},
   "outputs": [],
   "source": [
    "import numpy as np\n",
    "horizons = [0.25, 0.5, 0.75]\n",
    "times = np.quantile(t[e==1], horizons).tolist()"
   ]
  },
  {
   "cell_type": "markdown",
   "metadata": {},
   "source": [
    "### Splitting the data into train, test and validation sets\n",
    "\n",
    "We will train DSM on 70% of the Data, use a Validation set of 10% for Model Selection and report performance on the remaining 20% held out test set."
   ]
  },
  {
   "cell_type": "code",
   "execution_count": 7,
   "metadata": {},
   "outputs": [],
   "source": [
    "n = len(x)\n",
    "\n",
    "tr_size = int(n*0.70)\n",
    "vl_size = int(n*0.10)\n",
    "te_size = int(n*0.20)\n",
    "\n",
    "x_train, x_test, x_val = x[:tr_size], x[-te_size:], x[tr_size:tr_size+vl_size]\n",
    "t_train, t_test, t_val = t[:tr_size], t[-te_size:], t[tr_size:tr_size+vl_size]\n",
    "e_train, e_test, e_val = e[:tr_size], e[-te_size:], e[tr_size:tr_size+vl_size]"
   ]
  },
  {
   "cell_type": "markdown",
   "metadata": {},
   "source": [
    "### Setting the parameter grid\n",
    "\n",
    "Lets set up the parameter grid to tune hyper-parameters. We will tune the number of underlying survival distributions, \n",
    "($K$), the distribution choices (Log-Normal or Weibull), the learning rate for the Adam optimizer between $1\\times10^{-3}$ and $1\\times10^{-4}$ and the number of hidden layers between $0, 1$ and $2$."
   ]
  },
  {
   "cell_type": "code",
   "execution_count": 8,
   "metadata": {},
   "outputs": [],
   "source": [
    "from sklearn.model_selection import ParameterGrid"
   ]
  },
  {
   "cell_type": "code",
   "execution_count": 13,
   "metadata": {},
   "outputs": [],
   "source": [
    "param_grid = {'k' : [3, 4, 6],\n",
    "              'distribution' : ['LogNormal', 'Weibull'],\n",
    "              'learning_rate' : [ 1e-4, 1e-3],\n",
    "              'layers' : [ [], [100], [100, 100] ]\n",
    "             }\n",
    "params = ParameterGrid(param_grid)"
   ]
  },
  {
   "cell_type": "markdown",
   "metadata": {},
   "source": [
    "### Model Training and Selection"
   ]
  },
  {
   "cell_type": "code",
   "execution_count": 14,
   "metadata": {},
   "outputs": [],
   "source": [
    "from dsm import DeepSurvivalMachines"
   ]
  },
  {
   "cell_type": "code",
   "execution_count": 15,
   "metadata": {
    "scrolled": true
   },
   "outputs": [
    {
     "output_type": "stream",
     "name": "stderr",
     "text": [
      " 12%|█▏        | 1242/10000 [00:01<00:11, 782.79it/s]\n",
      "100%|██████████| 10/10 [00:00<00:00, 10.19it/s]\n",
      " 12%|█▏        | 1242/10000 [00:01<00:10, 820.49it/s]\n",
      "100%|██████████| 10/10 [00:00<00:00, 10.09it/s]\n",
      " 12%|█▏        | 1242/10000 [00:01<00:10, 806.52it/s]\n",
      "100%|██████████| 10/10 [00:01<00:00,  7.94it/s]\n",
      " 12%|█▏        | 1242/10000 [00:01<00:10, 810.05it/s]\n",
      "100%|██████████| 10/10 [00:01<00:00,  7.64it/s]\n",
      " 12%|█▏        | 1242/10000 [00:01<00:11, 776.05it/s]\n",
      "100%|██████████| 10/10 [00:01<00:00,  7.23it/s]\n",
      " 12%|█▏        | 1242/10000 [00:01<00:10, 828.57it/s]\n",
      " 60%|██████    | 6/10 [00:01<00:00,  5.50it/s]\n",
      " 12%|█▏        | 1242/10000 [00:01<00:11, 790.31it/s]\n",
      "100%|██████████| 10/10 [00:01<00:00,  8.27it/s]\n",
      " 12%|█▏        | 1242/10000 [00:01<00:10, 806.94it/s]\n",
      "100%|██████████| 10/10 [00:01<00:00,  8.90it/s]\n",
      " 12%|█▏        | 1242/10000 [00:01<00:10, 830.34it/s]\n",
      "100%|██████████| 10/10 [00:01<00:00,  7.23it/s]\n",
      " 12%|█▏        | 1242/10000 [00:01<00:10, 831.41it/s]\n",
      "100%|██████████| 10/10 [00:01<00:00,  7.29it/s]\n",
      " 12%|█▏        | 1242/10000 [00:01<00:11, 757.66it/s]\n",
      "100%|██████████| 10/10 [00:01<00:00,  6.45it/s]\n",
      " 12%|█▏        | 1242/10000 [00:01<00:10, 836.74it/s]\n",
      " 60%|██████    | 6/10 [00:01<00:00,  5.25it/s]\n",
      " 12%|█▏        | 1242/10000 [00:01<00:12, 712.26it/s]\n",
      "100%|██████████| 10/10 [00:01<00:00,  6.75it/s]\n",
      " 12%|█▏        | 1242/10000 [00:01<00:10, 827.04it/s]\n",
      "100%|██████████| 10/10 [00:01<00:00,  6.67it/s]\n",
      " 12%|█▏        | 1242/10000 [00:01<00:10, 799.92it/s]\n",
      "100%|██████████| 10/10 [00:02<00:00,  4.98it/s]\n",
      " 12%|█▏        | 1242/10000 [00:01<00:12, 689.01it/s]\n",
      "100%|██████████| 10/10 [00:01<00:00,  5.52it/s]\n",
      " 12%|█▏        | 1242/10000 [00:01<00:11, 778.95it/s]\n",
      "100%|██████████| 10/10 [00:01<00:00,  5.41it/s]\n",
      " 12%|█▏        | 1242/10000 [00:01<00:10, 835.21it/s]\n",
      " 50%|█████     | 5/10 [00:01<00:01,  4.36it/s]\n",
      " 18%|█▊        | 1845/10000 [00:02<00:09, 852.38it/s]\n",
      "100%|██████████| 10/10 [00:00<00:00, 12.01it/s]\n",
      " 18%|█▊        | 1845/10000 [00:02<00:09, 882.20it/s]\n",
      "100%|██████████| 10/10 [00:00<00:00, 12.02it/s]\n",
      " 18%|█▊        | 1845/10000 [00:02<00:09, 863.47it/s]\n",
      "100%|██████████| 10/10 [00:01<00:00,  9.37it/s]\n",
      " 18%|█▊        | 1845/10000 [00:02<00:09, 886.44it/s]\n",
      "100%|██████████| 10/10 [00:01<00:00,  9.11it/s]\n",
      " 18%|█▊        | 1845/10000 [00:02<00:10, 784.74it/s]\n",
      "100%|██████████| 10/10 [00:01<00:00,  7.76it/s]\n",
      " 18%|█▊        | 1845/10000 [00:02<00:09, 823.97it/s]\n",
      " 90%|█████████ | 9/10 [00:01<00:00,  6.72it/s]\n",
      " 18%|█▊        | 1845/10000 [00:02<00:10, 783.67it/s]\n",
      "100%|██████████| 10/10 [00:01<00:00,  9.99it/s]\n",
      " 18%|█▊        | 1845/10000 [00:02<00:09, 831.33it/s]\n",
      "100%|██████████| 10/10 [00:01<00:00,  9.75it/s]\n",
      " 18%|█▊        | 1845/10000 [00:02<00:10, 813.82it/s]\n",
      "100%|██████████| 10/10 [00:01<00:00,  8.52it/s]\n",
      " 18%|█▊        | 1845/10000 [00:02<00:09, 865.63it/s]\n",
      "100%|██████████| 10/10 [00:01<00:00,  8.16it/s]\n",
      " 18%|█▊        | 1845/10000 [00:02<00:09, 889.63it/s]\n",
      "100%|██████████| 10/10 [00:01<00:00,  7.32it/s]\n",
      " 18%|█▊        | 1845/10000 [00:02<00:09, 851.06it/s]\n",
      " 70%|███████   | 7/10 [00:01<00:00,  5.94it/s]\n",
      " 18%|█▊        | 1845/10000 [00:02<00:09, 863.84it/s]\n",
      "100%|██████████| 10/10 [00:01<00:00,  8.47it/s]\n",
      " 18%|█▊        | 1845/10000 [00:02<00:09, 876.72it/s]\n",
      "100%|██████████| 10/10 [00:01<00:00,  8.13it/s]\n",
      " 18%|█▊        | 1845/10000 [00:02<00:09, 827.48it/s]\n",
      "100%|██████████| 10/10 [00:01<00:00,  7.10it/s]\n",
      " 18%|█▊        | 1845/10000 [00:02<00:09, 870.98it/s]\n",
      "100%|██████████| 10/10 [00:01<00:00,  7.11it/s]\n",
      " 18%|█▊        | 1845/10000 [00:02<00:09, 837.89it/s]\n",
      "100%|██████████| 10/10 [00:01<00:00,  6.11it/s]\n",
      " 18%|█▊        | 1845/10000 [00:02<00:09, 880.14it/s]\n",
      " 90%|█████████ | 9/10 [00:01<00:00,  5.40it/s]\n"
     ]
    }
   ],
   "source": [
    "models = []\n",
    "for param in params:\n",
    "    model = DeepSurvivalMachines(k = param['k'],\n",
    "                                 distribution = param['distribution'],\n",
    "                                 layers = param['layers'])\n",
    "    # The fit method is called to train the model\n",
    "    model.fit(x_train, t_train, e_train, iters = 10, learning_rate = param['learning_rate'])\n",
    "    models.append([[model.compute_nll(x_val, t_val, e_val), model]])\n",
    "best_model = min(models)\n",
    "model = best_model[0][1]"
   ]
  },
  {
   "cell_type": "markdown",
   "metadata": {},
   "source": [
    "### Inference"
   ]
  },
  {
   "cell_type": "code",
   "execution_count": null,
   "metadata": {},
   "outputs": [],
   "source": [
    "out_risk = model.predict_risk(x_test, times)\n",
    "out_survival = model.predict_survival(x_test, times)"
   ]
  },
  {
   "cell_type": "markdown",
   "metadata": {},
   "source": [
    "### Evaluation\n",
    "\n",
    "We evaluate the performance of DSM in its discriminative ability (Time Dependent Concordance Index and Cumulative Dynamic AUC) as well as Brier Score."
   ]
  },
  {
   "cell_type": "code",
   "execution_count": null,
   "metadata": {},
   "outputs": [],
   "source": [
    "from sksurv.metrics import concordance_index_ipcw, brier_score, cumulative_dynamic_auc"
   ]
  },
  {
   "cell_type": "code",
   "execution_count": null,
   "metadata": {},
   "outputs": [],
   "source": [
    "cis = []\n",
    "brs = []\n",
    "\n",
    "et_train = np.array([(e_train[i], t_train[i]) for i in range(len(e_train))],\n",
    "                 dtype = [('e', bool), ('t', float)])\n",
    "et_test = np.array([(e_test[i], t_test[i]) for i in range(len(e_test))],\n",
    "                 dtype = [('e', bool), ('t', float)])\n",
    "et_val = np.array([(e_val[i], t_val[i]) for i in range(len(e_val))],\n",
    "                 dtype = [('e', bool), ('t', float)])\n",
    "\n",
    "for i, _ in enumerate(times):\n",
    "    cis.append(concordance_index_ipcw(et_train, et_test, out_risk[:, i], times[i])[0])\n",
    "brs.append(brier_score(et_train, et_test, out_survival, times)[1])\n",
    "roc_auc = []\n",
    "for i, _ in enumerate(times):\n",
    "    roc_auc.append(cumulative_dynamic_auc(et_train, et_test, out_risk[:, i], times[i])[0])\n",
    "for horizon in enumerate(horizons):\n",
    "    print(f\"For {horizon[1]} quantile,\")\n",
    "    print(\"TD Concordance Index:\", cis[horizon[0]])\n",
    "    print(\"Brier Score:\", brs[0][horizon[0]])\n",
    "    print(\"ROC AUC \", roc_auc[horizon[0]][0], \"\\n\")"
   ]
  }
 ],
 "metadata": {
  "kernelspec": {
   "name": "python3",
   "display_name": "Python 3.7.8 64-bit ('env')",
   "metadata": {
    "interpreter": {
     "hash": "b179e1e9a7f7587618b4163a88b9b00a8df00a487deb38e8c0933430e1be0bf4"
    }
   }
  },
  "language_info": {
   "codemirror_mode": {
    "name": "ipython",
    "version": 3
   },
   "file_extension": ".py",
   "mimetype": "text/x-python",
   "name": "python",
   "nbconvert_exporter": "python",
   "pygments_lexer": "ipython3",
   "version": "3.7.8-final"
  }
 },
 "nbformat": 4,
 "nbformat_minor": 4
}