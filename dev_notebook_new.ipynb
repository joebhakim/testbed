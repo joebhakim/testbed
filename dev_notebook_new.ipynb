{
 "metadata": {
  "language_info": {
   "codemirror_mode": {
    "name": "ipython",
    "version": 3
   },
   "file_extension": ".py",
   "mimetype": "text/x-python",
   "name": "python",
   "nbconvert_exporter": "python",
   "pygments_lexer": "ipython3",
   "version": "3.9.5"
  },
  "orig_nbformat": 2,
  "kernelspec": {
   "name": "python3",
   "display_name": "Python 3.9.5 64-bit"
  },
  "interpreter": {
   "hash": "e7370f93d1d0cde622a1f8e1c04877d8463912d04d973331ad4851f04de6915a"
  }
 },
 "nbformat": 4,
 "nbformat_minor": 2,
 "cells": [
  {
   "cell_type": "code",
   "execution_count": 4,
   "metadata": {},
   "outputs": [],
   "source": [
    "%load_ext autoreload\n",
    "%autoreload 2"
   ]
  },
  {
   "cell_type": "code",
   "execution_count": 5,
   "metadata": {},
   "outputs": [],
   "source": [
    "import os\n",
    "os.chdir('/home/joe/testbed/DeepSurvivalMachines')"
   ]
  },
  {
   "cell_type": "code",
   "execution_count": 6,
   "metadata": {},
   "outputs": [],
   "source": [
    "from dsm import datasets\n",
    "x, t, e = datasets.load_dataset('PBC', sequential = True)"
   ]
  },
  {
   "cell_type": "code",
   "execution_count": 7,
   "metadata": {},
   "outputs": [],
   "source": [
    "import numpy as np\n",
    "import seaborn as sns\n",
    "import pandas as pd"
   ]
  },
  {
   "cell_type": "code",
   "execution_count": 8,
   "metadata": {},
   "outputs": [],
   "source": [
    "import torch\n",
    "import tqdm\n",
    "import torch.nn as nn\n",
    "import torch.nn.functional as F"
   ]
  },
  {
   "source": [
    "# reusing compression code via gumbel"
   ],
   "cell_type": "markdown",
   "metadata": {}
  },
  {
   "cell_type": "code",
   "execution_count": 9,
   "metadata": {},
   "outputs": [],
   "source": [
    "import utils"
   ]
  },
  {
   "cell_type": "code",
   "execution_count": 10,
   "metadata": {},
   "outputs": [],
   "source": [
    "bs = 128 # batch size"
   ]
  },
  {
   "cell_type": "code",
   "execution_count": 11,
   "metadata": {},
   "outputs": [
    {
     "output_type": "execute_result",
     "data": {
      "text/plain": [
       "True"
      ]
     },
     "metadata": {},
     "execution_count": 11
    }
   ],
   "source": [
    "torch.cuda.is_available()"
   ]
  },
  {
   "cell_type": "code",
   "execution_count": 12,
   "metadata": {},
   "outputs": [],
   "source": [
    "(x_train, t_train, e_train,\n",
    "            x_val, t_val, e_val) = utils.prepocess_training_data_from_lists(x, t, e, vsize=0.2, val_data=None, random_state=563)"
   ]
  },
  {
   "cell_type": "code",
   "execution_count": 13,
   "metadata": {},
   "outputs": [
    {
     "output_type": "stream",
     "name": "stdout",
     "text": [
      "torch.Size([250, 16, 25]) torch.Size([250, 16, 1]) torch.Size([250, 16, 1])\n"
     ]
    }
   ],
   "source": [
    "print(x_train.shape, t_train.shape, e_train.shape)"
   ]
  },
  {
   "cell_type": "code",
   "execution_count": 14,
   "metadata": {},
   "outputs": [],
   "source": [
    "scm_model = utils.SurvivalClusteringMachine(x_train.shape[2], hidden=10, \n",
    "                k=4, lstm_layers=1, layers=None, dist='Weibull',\n",
    "               temp=1000., discount=1.0, optimizer='Adam',\n",
    "               risks=1)"
   ]
  },
  {
   "cell_type": "code",
   "execution_count": 15,
   "metadata": {},
   "outputs": [],
   "source": [
    "xrep = scm_model.represent(x_train)"
   ]
  },
  {
   "cell_type": "code",
   "execution_count": 16,
   "metadata": {},
   "outputs": [
    {
     "output_type": "execute_result",
     "data": {
      "text/plain": [
       "torch.Size([250, 20])"
      ]
     },
     "metadata": {},
     "execution_count": 16
    }
   ],
   "source": [
    "xrep.shape"
   ]
  },
  {
   "cell_type": "code",
   "execution_count": 17,
   "metadata": {},
   "outputs": [],
   "source": [
    "#shape, scale, logits = model.forward(x, risk)\n",
    "shape, scale, logits = scm_model.forward(x_train, '1')"
   ]
  },
  {
   "cell_type": "code",
   "execution_count": 18,
   "metadata": {},
   "outputs": [
    {
     "output_type": "stream",
     "name": "stdout",
     "text": [
      "torch.Size([250, 4]) torch.Size([250, 4]) torch.Size([250, 4])\n"
     ]
    }
   ],
   "source": [
    "print(shape.shape, scale.shape, logits.shape)"
   ]
  },
  {
   "cell_type": "code",
   "execution_count": 19,
   "metadata": {},
   "outputs": [
    {
     "output_type": "stream",
     "name": "stdout",
     "text": [
      "torch.Size([250, 4]) torch.Size([250, 4, 16, 250])\n"
     ]
    },
    {
     "output_type": "error",
     "ename": "RuntimeError",
     "evalue": "The size of tensor a (4) must match the size of tensor b (250) at non-singleton dimension 3",
     "traceback": [
      "\u001b[0;31m---------------------------------------------------------------------------\u001b[0m",
      "\u001b[0;31mRuntimeError\u001b[0m                              Traceback (most recent call last)",
      "\u001b[0;32m<ipython-input-19-b398942f230d>\u001b[0m in \u001b[0;36m<module>\u001b[0;34m\u001b[0m\n\u001b[0;32m----> 1\u001b[0;31m \u001b[0mutils\u001b[0m\u001b[0;34m.\u001b[0m\u001b[0m_conditional_weibull_loss\u001b[0m\u001b[0;34m(\u001b[0m\u001b[0mscm_model\u001b[0m\u001b[0;34m,\u001b[0m \u001b[0mx_train\u001b[0m\u001b[0;34m,\u001b[0m \u001b[0mt_train\u001b[0m\u001b[0;34m,\u001b[0m \u001b[0me_train\u001b[0m\u001b[0;34m)\u001b[0m\u001b[0;34m\u001b[0m\u001b[0;34m\u001b[0m\u001b[0m\n\u001b[0m",
      "\u001b[0;32m~/testbed/combined_proj/utils.py\u001b[0m in \u001b[0;36m_conditional_weibull_loss\u001b[0;34m(model, x, t, e, elbo, risk)\u001b[0m\n\u001b[1;32m    222\u001b[0m     \u001b[0mlossg\u001b[0m \u001b[0;34m=\u001b[0m \u001b[0mnn\u001b[0m\u001b[0;34m.\u001b[0m\u001b[0mSoftmax\u001b[0m\u001b[0;34m(\u001b[0m\u001b[0mdim\u001b[0m\u001b[0;34m=\u001b[0m\u001b[0;36m1\u001b[0m\u001b[0;34m)\u001b[0m\u001b[0;34m(\u001b[0m\u001b[0mlogits\u001b[0m\u001b[0;34m)\u001b[0m\u001b[0;34m\u001b[0m\u001b[0;34m\u001b[0m\u001b[0m\n\u001b[1;32m    223\u001b[0m     \u001b[0mprint\u001b[0m\u001b[0;34m(\u001b[0m\u001b[0mlossg\u001b[0m\u001b[0;34m.\u001b[0m\u001b[0mshape\u001b[0m\u001b[0;34m,\u001b[0m \u001b[0mlossf\u001b[0m\u001b[0;34m.\u001b[0m\u001b[0mshape\u001b[0m\u001b[0;34m)\u001b[0m\u001b[0;34m\u001b[0m\u001b[0;34m\u001b[0m\u001b[0m\n\u001b[0;32m--> 224\u001b[0;31m     \u001b[0mlosss\u001b[0m \u001b[0;34m=\u001b[0m \u001b[0mlossg\u001b[0m\u001b[0;34m*\u001b[0m\u001b[0mlosss\u001b[0m\u001b[0;34m\u001b[0m\u001b[0;34m\u001b[0m\u001b[0m\n\u001b[0m\u001b[1;32m    225\u001b[0m     \u001b[0mlossf\u001b[0m \u001b[0;34m=\u001b[0m \u001b[0mlossg\u001b[0m\u001b[0;34m*\u001b[0m\u001b[0mlossf\u001b[0m\u001b[0;34m\u001b[0m\u001b[0;34m\u001b[0m\u001b[0m\n\u001b[1;32m    226\u001b[0m     \u001b[0mlosss\u001b[0m \u001b[0;34m=\u001b[0m \u001b[0mlosss\u001b[0m\u001b[0;34m.\u001b[0m\u001b[0msum\u001b[0m\u001b[0;34m(\u001b[0m\u001b[0mdim\u001b[0m\u001b[0;34m=\u001b[0m\u001b[0;36m1\u001b[0m\u001b[0;34m)\u001b[0m\u001b[0;34m\u001b[0m\u001b[0;34m\u001b[0m\u001b[0m\n",
      "\u001b[0;31mRuntimeError\u001b[0m: The size of tensor a (4) must match the size of tensor b (250) at non-singleton dimension 3"
     ]
    }
   ],
   "source": [
    "utils._conditional_weibull_loss(scm_model, x_train, t_train, e_train)"
   ]
  },
  {
   "cell_type": "code",
   "execution_count": 38,
   "metadata": {},
   "outputs": [
    {
     "output_type": "execute_result",
     "data": {
      "text/plain": [
       "tensor([-0.9273, -0.7244, -0.6787, -0.7432, -0.7416, -0.8662, -0.8068, -0.9400,\n",
       "        -0.7783, -0.7434, -0.6815, -0.7831, -0.7866, -0.8228, -0.7006, -0.8271,\n",
       "        -0.7496, -0.6798, -0.7254, -0.7358, -0.7330, -0.9491, -0.8368, -0.7053,\n",
       "        -0.6761, -0.8167, -0.8656, -0.8977, -0.8484, -0.7892, -0.7107, -0.7391,\n",
       "        -0.7416, -0.7175, -0.7625, -0.7754, -0.8630, -0.7329, -0.8907, -0.8116,\n",
       "        -0.7103, -0.6198, -0.6961, -0.7975, -0.7208, -0.8330, -0.7480, -0.6859,\n",
       "        -0.7438, -0.6829, -0.8024, -0.8919, -0.6860, -0.7387, -0.8475, -0.8134,\n",
       "        -0.8906, -0.7604, -0.9296, -0.8239, -0.7637, -0.9223, -0.8198, -0.6393,\n",
       "        -0.8780, -0.7182, -0.7673, -0.7144, -0.8102, -0.7479, -0.6816, -0.6999,\n",
       "        -0.6973, -0.7636, -0.8127, -0.7990, -0.8057, -0.7330, -0.7217, -0.7102,\n",
       "        -0.8105, -0.7630, -0.7694, -0.7383, -0.7237, -0.7911, -0.8491, -0.9511,\n",
       "        -0.6457, -0.8812, -0.7502, -0.8524, -0.7161, -0.7128, -0.8915, -0.7420,\n",
       "        -0.7260, -0.7838, -0.9144, -0.7642, -0.8234, -0.7900, -0.6633, -0.7550,\n",
       "        -0.6595, -0.7304, -0.7257, -0.8850, -0.7550, -0.6509, -0.7719, -0.6332,\n",
       "        -0.8938, -0.7638, -0.7375, -0.8201, -0.7224, -0.7286, -0.6412, -0.7135,\n",
       "        -0.6971, -0.9485, -0.6728, -0.7219, -0.8602, -0.6618, -0.8658, -0.7617,\n",
       "        -0.8823, -0.8886, -0.7800, -0.6976, -0.6731, -0.9303, -0.7680, -0.7079,\n",
       "        -0.7228, -0.8059, -0.6405, -0.9297, -0.7019, -0.9720, -0.9924, -0.7061,\n",
       "        -0.8748, -0.6762, -0.7905, -0.7662, -0.6109, -0.6157, -0.7974, -0.7604,\n",
       "        -0.8259, -0.8017, -0.9288, -0.7488, -0.7602, -0.7136, -0.7998, -0.6590,\n",
       "        -0.7159, -0.6451, -0.7142, -0.7329, -0.8881, -0.7670, -0.7114, -0.7739,\n",
       "        -0.8533, -0.7265, -0.7468, -0.8864, -0.9123, -0.6983, -0.8999, -0.8305,\n",
       "        -0.6834, -0.7314, -0.8340, -0.9174, -0.8379, -0.7987, -0.7327, -0.8322,\n",
       "        -0.7772, -0.7878, -0.8836, -0.7591, -0.8027, -0.7269, -0.9805, -0.7021,\n",
       "        -0.7368, -0.8775, -0.7656, -0.7743, -0.8152, -0.9421, -0.6967, -0.7762,\n",
       "        -0.7969, -0.6431, -0.7123, -0.6914, -0.7689, -0.9164, -0.8483, -0.9848,\n",
       "        -0.6781, -0.8881, -0.7942, -1.0787, -0.8505, -0.7234, -0.8367, -0.9476,\n",
       "        -0.7446, -0.8956, -0.7007, -0.7566, -0.8341, -0.7596, -0.9174, -0.7487,\n",
       "        -0.7730, -0.7311, -0.8771, -0.9350, -0.7696, -0.9130, -0.8192, -0.8769,\n",
       "        -0.7253, -0.7981, -0.7494, -0.6878, -0.8492, -0.7851, -0.6955, -0.8545,\n",
       "        -0.7034, -0.9419, -0.9240, -0.7049, -0.7768, -0.7650, -0.7529, -0.7767,\n",
       "        -0.6953, -0.8285], grad_fn=<SelectBackward>)"
      ]
     },
     "metadata": {},
     "execution_count": 38
    }
   ],
   "source": [
    "k"
   ]
  },
  {
   "cell_type": "code",
   "execution_count": 28,
   "metadata": {},
   "outputs": [],
   "source": [
    "t = t_train\n",
    "\n",
    "lossf = []\n",
    "losss = []\n",
    "\n",
    "k_ = shape\n",
    "b_ = scale\n",
    "for g in range(scm_model.k):\n",
    "\n",
    "    k = k_[:, g]\n",
    "    b = b_[:, g]\n",
    "\n",
    "    s = - (torch.pow(torch.exp(b)*t, torch.exp(k)))\n",
    "    f = k + b + ((torch.exp(k)-1)*(b+torch.log(t)))\n",
    "    f = f + s\n",
    "\n",
    "    lossf.append(f)\n",
    "    losss.append(s)\n",
    "\n",
    "losss = torch.stack(losss, dim=1)\n",
    "lossf = torch.stack(lossf, dim=1)\n",
    "\n",
    "lossg = nn.Softmax(dim=1)(logits)"
   ]
  },
  {
   "cell_type": "code",
   "execution_count": 25,
   "metadata": {},
   "outputs": [
    {
     "output_type": "execute_result",
     "data": {
      "text/plain": [
       "torch.Size([250, 4, 16, 250])"
      ]
     },
     "metadata": {},
     "execution_count": 25
    }
   ],
   "source": [
    "losss.shape"
   ]
  },
  {
   "cell_type": "code",
   "execution_count": 29,
   "metadata": {},
   "outputs": [
    {
     "output_type": "execute_result",
     "data": {
      "text/plain": [
       "torch.Size([250, 4])"
      ]
     },
     "metadata": {},
     "execution_count": 29
    }
   ],
   "source": [
    "lossg.shape"
   ]
  },
  {
   "cell_type": "code",
   "execution_count": 2,
   "metadata": {},
   "outputs": [],
   "source": [
    "def _conditional_weibull_loss(model, x, t, e, elbo=True, risk='1'):\n",
    "\n",
    "  alpha = model.discount\n",
    "  shape, scale, logits = model.forward(x, risk)\n",
    "\n",
    "  k_ = shape\n",
    "  b_ = scale\n",
    "\n",
    "  lossf = []\n",
    "  losss = []\n",
    "\n",
    "  for g in range(model.k):\n",
    "\n",
    "    k = k_[:, g]\n",
    "    b = b_[:, g]\n",
    "\n",
    "    s = - (torch.pow(torch.exp(b)*t, torch.exp(k)))\n",
    "    f = k + b + ((torch.exp(k)-1)*(b+torch.log(t)))\n",
    "    f = f + s\n",
    "\n",
    "    lossf.append(f)\n",
    "    losss.append(s)\n",
    "\n",
    "  losss = torch.stack(losss, dim=1)\n",
    "  lossf = torch.stack(lossf, dim=1)\n",
    "\n",
    "  if elbo:\n",
    "\n",
    "    lossg = nn.Softmax(dim=1)(logits)\n",
    "    losss = lossg*losss\n",
    "    lossf = lossg*lossf\n",
    "    losss = losss.sum(dim=1)\n",
    "    lossf = lossf.sum(dim=1)\n",
    "\n",
    "  else:\n",
    "\n",
    "    lossg = nn.LogSoftmax(dim=1)(logits)\n",
    "    losss = lossg + losss\n",
    "    lossf = lossg + lossf\n",
    "    losss = torch.logsumexp(losss, dim=1)\n",
    "    lossf = torch.logsumexp(lossf, dim=1)\n",
    "\n",
    "  uncens = np.where(e.cpu().data.numpy() == int(risk))[0]\n",
    "  cens = np.where(e.cpu().data.numpy() != int(risk))[0]\n",
    "  ll = lossf[uncens].sum() + alpha*losss[cens].sum()\n",
    "\n",
    "  return -ll/float(len(uncens)+len(cens))"
   ]
  },
  {
   "cell_type": "code",
   "execution_count": 3,
   "metadata": {},
   "outputs": [
    {
     "output_type": "error",
     "ename": "NameError",
     "evalue": "name 'utils' is not defined",
     "traceback": [
      "\u001b[0;31m---------------------------------------------------------------------------\u001b[0m",
      "\u001b[0;31mNameError\u001b[0m                                 Traceback (most recent call last)",
      "\u001b[0;32m<ipython-input-3-dd9b9f7f9234>\u001b[0m in \u001b[0;36m<module>\u001b[0;34m\u001b[0m\n\u001b[0;32m----> 1\u001b[0;31m \u001b[0mutils\u001b[0m\u001b[0;34m.\u001b[0m\u001b[0mtrain_scm\u001b[0m\u001b[0;34m(\u001b[0m\u001b[0mscm_model\u001b[0m\u001b[0;34m,\u001b[0m \u001b[0mx_train\u001b[0m\u001b[0;34m,\u001b[0m \u001b[0mt_train\u001b[0m\u001b[0;34m,\u001b[0m \u001b[0me_train\u001b[0m\u001b[0;34m)\u001b[0m\u001b[0;34m\u001b[0m\u001b[0;34m\u001b[0m\u001b[0m\n\u001b[0m",
      "\u001b[0;31mNameError\u001b[0m: name 'utils' is not defined"
     ]
    }
   ],
   "source": [
    "utils.train_scm(scm_model, x_train, t_train, e_train)"
   ]
  },
  {
   "cell_type": "code",
   "execution_count": 31,
   "metadata": {},
   "outputs": [
    {
     "output_type": "execute_result",
     "data": {
      "text/plain": [
       "torch.Size([250, 4])"
      ]
     },
     "metadata": {},
     "execution_count": 31
    }
   ],
   "source": [
    "scm_model.gate['1'](xrep).shape"
   ]
  },
  {
   "cell_type": "code",
   "execution_count": 32,
   "metadata": {},
   "outputs": [
    {
     "output_type": "execute_result",
     "data": {
      "text/plain": [
       "torch.Size([250, 4])"
      ]
     },
     "metadata": {},
     "execution_count": 32
    }
   ],
   "source": [
    "scm_model.shapeg['1'](xrep).shape"
   ]
  }
 ]
}